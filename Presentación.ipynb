{
 "cells": [
  {
   "cell_type": "markdown",
   "metadata": {},
   "source": [
    "# Inventariador y clasificador de dispositivos electronicos"
   ]
  },
  {
   "cell_type": "markdown",
   "metadata": {},
   "source": [
    "## Integrantes:\n",
    "<ul>\n",
    "    <li>Brayan Calderón<\\li>\n",
    "    <li>Daniel Delgado<\\li>\n",
    "    <li>Mateo Rodriguez<\\li>\n",
    "<\\ul>"
   ]
  },
  {
   "cell_type": "markdown",
   "metadata": {},
   "source": [
    "## Resumen\n",
    "En el presente documento se presenta el proceso de automatización en el inventariado de diferentes elementos electrónicos mediante el uso de técnicas de inteligencia artificial, más específicamente visión de máquina. La implementación de este proyecto se ejecutará en el establecimiento Sonido B&J ubicado en la ciudad de Valledupar-Colombia.\n",
    "<p align = \"center\">\n",
    "    <img src=\"Imagenes/1.png\">\n",
    "<\\p>\n"
   ]
  },
  {
   "cell_type": "markdown",
   "metadata": {},
   "source": [
    "## Planteamiento y justificación del problema\n",
    "El establecimiento Sonido B&J abastece su inventario constantemente por medio de proveedores que entregan la mercancía en cajas. Esta mercancía se encuentra sin clasificar, además durante las actividades comerciales del establecimiento es común que elementos se mezclen. Por todo lo anterior es necesario que una persona se encargue de clasificar y contar cada uno de los elementos. \n",
    "## Objetivos\n",
    "### Objetivos generales\n",
    "<ul>\n",
    "    <li>Diseñar un software capaz de reconocer, clasificar y cuantificar diferentes elementos electrónicos que se disponen en el establecimiento <\\li>\n",
    "<\\ul>\n",
    "\n"
   ]
  },
  {
   "cell_type": "markdown",
   "metadata": {},
   "source": [
    "### Objetivos especificos\n",
    "<ul>\n",
    "    <li>Diseñar un software capaz de reconocer, clasificar y cuantificar diferentes elementos electrónicos que se disponen en el establecimiento <\\li>\n",
    "        <li>Crear una base de datos lo suficientemente grande para poder identificar, segmentar y clasificar los elementos en casos de la vida real. <\\li>\n",
    "            <li>Extraer y resaltar las características particulares de cada elemento. \n",
    " <\\li>\n",
    "     <li>Segmentar cada uno de los elementos.<\\li>\n",
    "         <li>Diseñar e implementar un algoritmo clasificador con el mínimo error admisible <\\li>\n",
    "<\\ul>\n"
   ]
  },
  {
   "cell_type": "markdown",
   "metadata": {},
   "source": [
    "## Alcance\n",
    "Debido a la escalabilidad del proyecto y a la gran gama de elementos electrónicos que existen en el mercado, se limitará el desarrollo del algoritmo a elementos de tipo switch. El sistema desarrollado será utilizado para evaluar la viabilidad de la implementación para un mayor alcance en el establecimiento.\n"
   ]
  }
 ],
 "metadata": {
  "kernelspec": {
   "display_name": "Python 3",
   "language": "python",
   "name": "python3"
  },
  "language_info": {
   "codemirror_mode": {
    "name": "ipython",
    "version": 3
   },
   "file_extension": ".py",
   "mimetype": "text/x-python",
   "name": "python",
   "nbconvert_exporter": "python",
   "pygments_lexer": "ipython3",
   "version": "3.8.5"
  }
 },
 "nbformat": 4,
 "nbformat_minor": 4
}
