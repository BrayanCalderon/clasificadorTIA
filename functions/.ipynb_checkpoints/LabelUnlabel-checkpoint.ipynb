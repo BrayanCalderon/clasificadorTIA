{
 "cells": [
  {
   "cell_type": "code",
   "execution_count": 7,
   "id": "97feea75",
   "metadata": {},
   "outputs": [],
   "source": [
    "import numpy as np\n",
    "import cv2\n",
    "from matplotlib import pyplot as plt"
   ]
  },
  {
   "cell_type": "code",
   "execution_count": 12,
   "id": "330f31f4",
   "metadata": {},
   "outputs": [
    {
     "name": "stdout",
     "output_type": "stream",
     "text": [
      "Imagenes/Unlabel/rename/Sw-0.png\n",
      "Imagenes/Unlabel/rename/Sw-1.png\n",
      "Imagenes/Unlabel/rename/Sw-2.png\n",
      "Imagenes/Unlabel/rename/Sw-3.png\n",
      "Imagenes/Unlabel/rename/Sw-4.png\n",
      "Imagenes/Unlabel/rename/Sw-5.png\n",
      "Imagenes/Unlabel/rename/Sw-6.png\n",
      "Imagenes/Unlabel/rename/Sw-7.png\n",
      "Imagenes/Unlabel/rename/Sw-8.png\n",
      "Imagenes/Unlabel/rename/Sw-9.png\n",
      "Imagenes/Unlabel/rename/Sw-10.png\n",
      "Imagenes/Unlabel/rename/Sw-11.png\n",
      "Imagenes/Unlabel/rename/Sw-12.png\n",
      "Imagenes/Unlabel/rename/Sw-13.png\n",
      "Imagenes/Unlabel/rename/Sw-14.png\n",
      "Imagenes/Unlabel/rename/Sw-15.png\n",
      "Imagenes/Unlabel/rename/Sw-16.png\n"
     ]
    }
   ],
   "source": [
    "\n",
    "from os import scandir\n",
    "\n",
    "def cropfile(pathin,pathout, x, y, w, h,ws):\n",
    "    img = cv2.imread(pathin)\n",
    "    if ws:\n",
    "        cv2.imwrite(pathout, img)\n",
    "    else:\n",
    "        test_images.append(img)\n",
    "\n",
    "#Función para encontrar todas las imagenes que están en un directorio    \n",
    "def ls1(path):    \n",
    "    return [obj.name for obj in scandir(path) if obj.is_file()]\n",
    "\n",
    "#Función para separar el nombre del archivo\n",
    "def splitfilename(filename):\n",
    "    sname=\"\"\n",
    "    sext=\"\"\n",
    "    i=filename.rfind(\".\")\n",
    "    if(i!=0):\n",
    "        n=len(filename)\n",
    "        j=n-i-1\n",
    "        sname=filename[0:i]\n",
    "        sext=filename[-j:]    \n",
    "    return sext, sname\n",
    "\n",
    "#Arreglo de imagenes de prueba\n",
    "test_images = []\n",
    "\n",
    "for i in range(1):\n",
    "    path = \"Imagenes/Unlabel/\"\n",
    "    #Files es un arreglo con todos los nombres de las imagenes que están dentro del path\n",
    "    files=ls1(path)\n",
    "    j = 0\n",
    "    for file in files:\n",
    "        # Es el path + el nombre de la imagen\n",
    "        filea=path + file # archivo original\n",
    "        #sext es la extensión y sfilename y es el nombre del archivo sin la extensión\n",
    "        sext, sfilename = splitfilename(file)    \n",
    "        #creación del path de archivo ya con el crop\n",
    "        filec=path+\"rename/\" + \"Sw\"+\"-\"+str(j) + \".png\" # archivo crop    \n",
    "        j +=1\n",
    "        print(filec)\n",
    "        cropfile(filea, filec, 250, 90, 300,200,1)\n",
    "    cropfile(path+files[0],filec,250,90,300,200,0)\n",
    "\n",
    "    \n",
    "        "
   ]
  },
  {
   "cell_type": "code",
   "execution_count": null,
   "id": "dbff13fd",
   "metadata": {},
   "outputs": [],
   "source": [
    "from preproces import *\n",
    "src = cv2.imread(\"Imagenes/Completo/Escenarios/8.jpeg\")"
   ]
  }
 ],
 "metadata": {
  "kernelspec": {
   "display_name": "Python 3 (ipykernel)",
   "language": "python",
   "name": "python3"
  },
  "language_info": {
   "codemirror_mode": {
    "name": "ipython",
    "version": 3
   },
   "file_extension": ".py",
   "mimetype": "text/x-python",
   "name": "python",
   "nbconvert_exporter": "python",
   "pygments_lexer": "ipython3",
   "version": "3.8.12"
  }
 },
 "nbformat": 4,
 "nbformat_minor": 5
}
